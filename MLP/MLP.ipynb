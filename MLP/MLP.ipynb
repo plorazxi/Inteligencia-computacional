{
 "cells": [
  {
   "cell_type": "code",
   "execution_count": 6,
   "id": "493009cb",
   "metadata": {},
   "outputs": [],
   "source": [
    "import numpy as np\n",
    "from sklearn.metrics import log_loss"
   ]
  },
  {
   "cell_type": "code",
   "execution_count": 7,
   "id": "1426229f",
   "metadata": {},
   "outputs": [],
   "source": [
    "class LogisticPerceptron():\n",
    "    # Inicialização\n",
    "    def __init__(self, epochs, learnRate):\n",
    "        self.a = np.random.randn() # Peso do unico input\n",
    "        self.b = np.random.randn() # BIAS\n",
    "        self.epochs = epochs\n",
    "        self.learningRate = learnRate\n",
    "\n",
    "    # Função de ativação\n",
    "    def sigmoid(self, x):\n",
    "      z = self.a * x + self.b\n",
    "      return 1 / (1 + np.exp(-z))\n",
    "\n",
    "    # Treinamento\n",
    "    def fit(self, x, y):\n",
    "        err_historic = []\n",
    "        for _ in range(self.epochs):\n",
    "            # Predizendo\n",
    "            y_hat = self.sigmoid(x)\n",
    "            # Calculando erro e adicionando à lista de historico \n",
    "            err = log_loss(y, y_hat)\n",
    "            err_historic.append(err)\n",
    "            # Atualizando os pesos (a taxa de aprendizado vezes a media dos gradientes descendentes)\n",
    "            self.a -= self.learningRate * np.mean((y_hat - y) * x)\n",
    "            self.b -= self.learningRate * np.mean((y_hat - y))\n",
    "        # retornando o historico de erro, para a vizualização\n",
    "        return err_historic\n",
    "\n",
    "    # Função de predição\n",
    "    def predict(self, input):\n",
    "      return 1 if self.sigmoid(input) > 0.5 else 0"
   ]
  },
  {
   "cell_type": "code",
   "execution_count": 8,
   "id": "33df6431",
   "metadata": {},
   "outputs": [],
   "source": [
    "class SimplePerceptron():\n",
    "    def __init__(self, qntInputs, learningRate=0.1):\n",
    "        self.weights = np.random.randn(qntInputs)\n",
    "        self.bias = np.random.randn()\n",
    "        self.learningRate = learningRate\n",
    "    \n",
    "    def step(self, x):\n",
    "        return 1 if x >= 0 else 0\n",
    "\n",
    "    def sum(self, inputs) -> int:\n",
    "        sum = 0\n",
    "        for input, weight in zip(inputs, self.weights):\n",
    "            sum += input*weight\n",
    "        sum += self.bias\n",
    "        return sum\n",
    "    \n",
    "    def predict(self, x):\n",
    "        return self.step(self.sum(x))\n",
    "    \n",
    "    def fit(self, x, y, epochs):\n",
    "        for _ in range(epochs):\n",
    "            for xi, yi in zip(x, y):\n",
    "                y_hat = self.predict(xi)\n",
    "                err = y_hat - yi\n",
    "                for i in range(len(self.weights)):\n",
    "                    self.weights[i] -= self.learningRate * err * xi[i]\n",
    "                self.bias -= self.learningRate * err"
   ]
  },
  {
   "cell_type": "code",
   "execution_count": 9,
   "id": "e28b94b9",
   "metadata": {},
   "outputs": [
    {
     "name": "stdout",
     "output_type": "stream",
     "text": [
      "[0.89107476 0.09839695]\n"
     ]
    }
   ],
   "source": [
    "teste = SimplePerceptron(2)\n",
    "x = np.array([\n",
    "    [0, 0],\n",
    "    [0, 1],\n",
    "    [1, 0],\n",
    "    [1, 1]\n",
    "])\n",
    "\n",
    "y = np.array([0, 0, 0, 1])\n",
    "\n",
    "teste.fit(x, y, 100)\n",
    "print(teste.weights)"
   ]
  },
  {
   "cell_type": "code",
   "execution_count": 10,
   "id": "cc7aef3a",
   "metadata": {},
   "outputs": [
    {
     "name": "stdout",
     "output_type": "stream",
     "text": [
      "para a entrada [0 0] saiu 0\n",
      "para a entrada [0 1] saiu 0\n",
      "para a entrada [1 0] saiu 0\n",
      "para a entrada [1 1] saiu 1\n",
      "Os pesos são [0.89107476 0.09839695] e o bias é -0.9519325390658702\n"
     ]
    }
   ],
   "source": [
    "for i in x:\n",
    "    print(f\"para a entrada {i} saiu {teste.predict(i)}\")\n",
    "print(f\"Os pesos são {teste.weights} e o bias é {teste.bias}\")\n"
   ]
  }
 ],
 "metadata": {
  "kernelspec": {
   "display_name": ".venv",
   "language": "python",
   "name": "python3"
  },
  "language_info": {
   "codemirror_mode": {
    "name": "ipython",
    "version": 3
   },
   "file_extension": ".py",
   "mimetype": "text/x-python",
   "name": "python",
   "nbconvert_exporter": "python",
   "pygments_lexer": "ipython3",
   "version": "3.12.4"
  }
 },
 "nbformat": 4,
 "nbformat_minor": 5
}
