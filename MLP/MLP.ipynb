{
 "cells": [
  {
   "cell_type": "code",
   "execution_count": 1,
   "id": "493009cb",
   "metadata": {},
   "outputs": [],
   "source": [
    "import numpy as np\n",
    "from sklearn.metrics import log_loss"
   ]
  },
  {
   "cell_type": "markdown",
   "id": "b0c30cdf",
   "metadata": {},
   "source": [
    "# Dados simulados"
   ]
  },
  {
   "cell_type": "code",
   "execution_count": 2,
   "id": "0fbecb3c",
   "metadata": {},
   "outputs": [],
   "source": [
    "x = np.array([\n",
    "    [0, 0],\n",
    "    [0, 1],\n",
    "    [1, 0],\n",
    "    [1, 1]\n",
    "])\n",
    "\n",
    "y_AND = np.array([0, 0, 0, 1])"
   ]
  },
  {
   "cell_type": "markdown",
   "id": "84700ae6",
   "metadata": {},
   "source": [
    "# Classe de um perceptron com função de Ativação Sigmoid"
   ]
  },
  {
   "cell_type": "code",
   "execution_count": 3,
   "id": "1426229f",
   "metadata": {},
   "outputs": [],
   "source": [
    "class LogisticPerceptron():\n",
    "    # Inicialização\n",
    "    def __init__(self, qntInput, learnRate=0.1, activateLinear=0.5):\n",
    "        self.weigths = np.random.randn(qntInput) # Peso do unico input\n",
    "        self.bias = np.random.randn() # BIAS\n",
    "        self.learningRate = learnRate\n",
    "        self.activateLinear = activateLinear\n",
    "\n",
    "    # Função de soma\n",
    "    def sum(self, inputs):\n",
    "        return inputs.dot(self.weigths) + self.bias\n",
    "\n",
    "    # Função de ativação\n",
    "    def sigmoid(self, z):\n",
    "      return 1 / (1 + np.exp(-z))\n",
    "    \n",
    "    # Função forward\n",
    "    def forward(self, x):\n",
    "       return self.sigmoid(self.sum(x))\n",
    "\n",
    "    # Treinamento\n",
    "    def fit(self, x, y, epochs):\n",
    "        # err_historic = []\n",
    "        for _ in range(epochs):\n",
    "            # Predizendo\n",
    "            y_hat = self.forward(x)\n",
    "            # Calculando erro e adicionando à lista de historico \n",
    "            # err = log_loss(y, y_hat)\n",
    "            # err_historic.append(err)\n",
    "            # Atualizando os pesos (a taxa de aprendizado vezes a media dos gradientes descendentes)\n",
    "            diff = y_hat - y\n",
    "            grad_w = x.T.dot(diff) / x.shape[0]\n",
    "            grad_b = diff.mean()   \n",
    "            self.weigths -= self.learningRate * grad_w\n",
    "            self.bias -= self.learningRate * grad_b\n",
    "        # retornando o historico de erro, para a vizualização\n",
    "        # return err_historic\n",
    "\n",
    "    # Função de predição\n",
    "    def predict(self, input:list[int]):\n",
    "      return 1 if self.forward(input) > self.activateLinear else 0"
   ]
  },
  {
   "cell_type": "code",
   "execution_count": 4,
   "id": "2075e611",
   "metadata": {},
   "outputs": [],
   "source": [
    "teste = LogisticPerceptron(2)\n",
    "\n",
    "teste.fit(x, y_AND, 1000)\n"
   ]
  },
  {
   "cell_type": "code",
   "execution_count": 5,
   "id": "ed41cfbc",
   "metadata": {},
   "outputs": [
    {
     "name": "stdout",
     "output_type": "stream",
     "text": [
      "para a entrada [0 0] saiu 0\n",
      "para a entrada [0 1] saiu 0\n",
      "para a entrada [1 0] saiu 0\n",
      "para a entrada [1 1] saiu 1\n",
      "Os pesos são [3.0678835  3.06886654] e o bias é -4.818849557762758\n"
     ]
    }
   ],
   "source": [
    "for i in x:\n",
    "    print(f\"para a entrada {i} saiu {teste.predict(i)}\")\n",
    "print(f\"Os pesos são {teste.weigths} e o bias é {teste.bias}\")"
   ]
  },
  {
   "cell_type": "markdown",
   "id": "feeba872",
   "metadata": {},
   "source": [
    "# Classe de um perceptron simples"
   ]
  },
  {
   "cell_type": "code",
   "execution_count": 6,
   "id": "33df6431",
   "metadata": {},
   "outputs": [],
   "source": [
    "class SimplePerceptron():\n",
    "    def __init__(self, qntInputs, learningRate=0.1):\n",
    "        self.weights = np.random.randn(qntInputs)\n",
    "        self.bias = np.random.randn()\n",
    "        self.learningRate = learningRate\n",
    "    \n",
    "    def step(self, x):\n",
    "        return 1 if x >= 0 else 0\n",
    "\n",
    "    def sum(self, inputs) -> int:\n",
    "        sum = 0\n",
    "        for input, weight in zip(inputs, self.weights):\n",
    "            sum += input*weight\n",
    "        sum += self.bias\n",
    "        return sum\n",
    "    \n",
    "    def predict(self, x):\n",
    "        return self.step(self.sum(x))\n",
    "    \n",
    "    def fit(self, x, y, epochs):\n",
    "        for epoch in range(epochs):\n",
    "            for xi, yi in zip(x, y):\n",
    "                y_hat = self.predict(xi)\n",
    "                err = y_hat - yi\n",
    "                for i in range(len(self.weights)):\n",
    "                    self.weights[i] -= self.learningRate * err * xi[i]\n",
    "                self.bias -= self.learningRate * err"
   ]
  },
  {
   "cell_type": "markdown",
   "id": "ef5c3795",
   "metadata": {},
   "source": [
    "## Teste e treino de um neurônio AND"
   ]
  },
  {
   "cell_type": "code",
   "execution_count": 7,
   "id": "e28b94b9",
   "metadata": {},
   "outputs": [],
   "source": [
    "teste = SimplePerceptron(2)\n",
    "\n",
    "teste.fit(x, y_AND, 100)"
   ]
  },
  {
   "cell_type": "code",
   "execution_count": 8,
   "id": "cc7aef3a",
   "metadata": {},
   "outputs": [
    {
     "name": "stdout",
     "output_type": "stream",
     "text": [
      "para a entrada [0 0] saiu 0\n",
      "para a entrada [0 1] saiu 0\n",
      "para a entrada [1 0] saiu 0\n",
      "para a entrada [1 1] saiu 1\n",
      "Os pesos são [0.19253101 0.08273616] e o bias é -0.23778048228586943\n"
     ]
    }
   ],
   "source": [
    "for i in x:\n",
    "    print(f\"para a entrada {i} saiu {teste.predict(i)}\")\n",
    "print(f\"Os pesos são {teste.weights} e o bias é {teste.bias}\")\n"
   ]
  }
 ],
 "metadata": {
  "kernelspec": {
   "display_name": ".venv",
   "language": "python",
   "name": "python3"
  },
  "language_info": {
   "codemirror_mode": {
    "name": "ipython",
    "version": 3
   },
   "file_extension": ".py",
   "mimetype": "text/x-python",
   "name": "python",
   "nbconvert_exporter": "python",
   "pygments_lexer": "ipython3",
   "version": "3.12.4"
  }
 },
 "nbformat": 4,
 "nbformat_minor": 5
}
