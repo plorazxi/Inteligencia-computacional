{
 "cells": [
  {
   "cell_type": "code",
   "execution_count": 7,
   "metadata": {
    "executionInfo": {
     "elapsed": 46,
     "status": "ok",
     "timestamp": 1747245559312,
     "user": {
      "displayName": "PAULO SERGIO DA SILVA LORASCHI",
      "userId": "05709845703001336425"
     },
     "user_tz": 180
    },
    "id": "nqUinqWY-qEI"
   },
   "outputs": [],
   "source": [
    "import keras\n",
    "import tensorflow as tf\n",
    "from keras import layers\n",
    "import numpy as np\n",
    "import matplotlib.pyplot as plt"
   ]
  },
  {
   "cell_type": "code",
   "execution_count": 8,
   "metadata": {
    "executionInfo": {
     "elapsed": 432,
     "status": "ok",
     "timestamp": 1747245559741,
     "user": {
      "displayName": "PAULO SERGIO DA SILVA LORASCHI",
      "userId": "05709845703001336425"
     },
     "user_tz": 180
    },
    "id": "sK3SDqEk-lUW"
   },
   "outputs": [],
   "source": [
    "(x_train, y_train), (x_test, y_test) = keras.datasets.mnist.load_data()\n",
    "\n",
    "x_train = x_train.astype(\"float32\") / 255.0\n",
    "x_train = x_train[..., tf.newaxis]\n",
    "y_train = y_train[..., tf.newaxis]"
   ]
  },
  {
   "cell_type": "code",
   "execution_count": 9,
   "metadata": {
    "executionInfo": {
     "elapsed": 64,
     "status": "ok",
     "timestamp": 1747245559806,
     "user": {
      "displayName": "PAULO SERGIO DA SILVA LORASCHI",
      "userId": "05709845703001336425"
     },
     "user_tz": 180
    },
    "id": "xq-oaPT-_P0Q"
   },
   "outputs": [],
   "source": [
    "model = keras.models.Sequential([\n",
    "    layers.Conv2D(32, kernel_size=3, activation='relu', input_shape=(28, 28, 1)),\n",
    "    layers.MaxPool2D(pool_size=2),\n",
    "    layers.Conv2D(64, kernel_size=3, activation='relu'),\n",
    "    layers.MaxPool2D(pool_size=2),\n",
    "    layers.Flatten(),\n",
    "    layers.Dense(128, activation='relu'),\n",
    "    layers.Dense(10, activation=\"softmax\")\n",
    "])\n"
   ]
  },
  {
   "cell_type": "code",
   "execution_count": 10,
   "metadata": {
    "colab": {
     "base_uri": "https://localhost:8080/"
    },
    "executionInfo": {
     "elapsed": 306856,
     "status": "ok",
     "timestamp": 1747245866667,
     "user": {
      "displayName": "PAULO SERGIO DA SILVA LORASCHI",
      "userId": "05709845703001336425"
     },
     "user_tz": 180
    },
    "id": "r8cbV4JSAq43",
    "outputId": "d6dc495d-65a3-4b59-ecc4-27dce785504b"
   },
   "outputs": [
    {
     "name": "stdout",
     "output_type": "stream",
     "text": [
      "Epoch 1/5\n",
      "\u001b[1m1688/1688\u001b[0m \u001b[32m━━━━━━━━━━━━━━━━━━━━\u001b[0m\u001b[37m\u001b[0m \u001b[1m23s\u001b[0m 13ms/step - accuracy: 0.9019 - loss: 0.3152 - val_accuracy: 0.9803 - val_loss: 0.0638\n",
      "Epoch 2/5\n",
      "\u001b[1m1688/1688\u001b[0m \u001b[32m━━━━━━━━━━━━━━━━━━━━\u001b[0m\u001b[37m\u001b[0m \u001b[1m26s\u001b[0m 15ms/step - accuracy: 0.9856 - loss: 0.0458 - val_accuracy: 0.9908 - val_loss: 0.0343\n",
      "Epoch 3/5\n",
      "\u001b[1m1688/1688\u001b[0m \u001b[32m━━━━━━━━━━━━━━━━━━━━\u001b[0m\u001b[37m\u001b[0m \u001b[1m30s\u001b[0m 18ms/step - accuracy: 0.9903 - loss: 0.0300 - val_accuracy: 0.9880 - val_loss: 0.0393\n",
      "Epoch 4/5\n",
      "\u001b[1m1688/1688\u001b[0m \u001b[32m━━━━━━━━━━━━━━━━━━━━\u001b[0m\u001b[37m\u001b[0m \u001b[1m17s\u001b[0m 10ms/step - accuracy: 0.9936 - loss: 0.0208 - val_accuracy: 0.9895 - val_loss: 0.0367\n",
      "Epoch 5/5\n",
      "\u001b[1m1688/1688\u001b[0m \u001b[32m━━━━━━━━━━━━━━━━━━━━\u001b[0m\u001b[37m\u001b[0m \u001b[1m18s\u001b[0m 10ms/step - accuracy: 0.9948 - loss: 0.0152 - val_accuracy: 0.9902 - val_loss: 0.0341\n"
     ]
    }
   ],
   "source": [
    "model.compile(optimizer='adam', loss='sparse_categorical_crossentropy', metrics=['accuracy'])\n",
    "\n",
    "history = model.fit(x_train, y_train, epochs=5, validation_split=0.1)"
   ]
  },
  {
   "cell_type": "code",
   "execution_count": 11,
   "metadata": {
    "colab": {
     "base_uri": "https://localhost:8080/"
    },
    "executionInfo": {
     "elapsed": 5344,
     "status": "ok",
     "timestamp": 1747245872036,
     "user": {
      "displayName": "PAULO SERGIO DA SILVA LORASCHI",
      "userId": "05709845703001336425"
     },
     "user_tz": 180
    },
    "id": "YHxL9dVEAugP",
    "outputId": "4dfc22f9-9ed0-4528-c0e8-3922a91fc486"
   },
   "outputs": [
    {
     "name": "stdout",
     "output_type": "stream",
     "text": [
      "\u001b[1m313/313\u001b[0m \u001b[32m━━━━━━━━━━━━━━━━━━━━\u001b[0m\u001b[37m\u001b[0m \u001b[1m2s\u001b[0m 6ms/step - accuracy: 0.9839 - loss: 10.4668\n",
      "\n",
      "Acurácia no teste: 0.9876\n"
     ]
    }
   ],
   "source": [
    "test_loss, test_acc = model.evaluate(x_test, y_test)\n",
    "print(f\"\\nAcurácia no teste: {test_acc:.4f}\")"
   ]
  },
  {
   "cell_type": "code",
   "execution_count": 12,
   "metadata": {
    "colab": {
     "base_uri": "https://localhost:8080/",
     "height": 424
    },
    "executionInfo": {
     "elapsed": 832,
     "status": "ok",
     "timestamp": 1747245872871,
     "user": {
      "displayName": "PAULO SERGIO DA SILVA LORASCHI",
      "userId": "05709845703001336425"
     },
     "user_tz": 180
    },
    "id": "dUwpgeBrBJgf",
    "outputId": "7ad79930-3f65-4a51-ea2b-9d58b58eb854"
   },
   "outputs": [
    {
     "name": "stdout",
     "output_type": "stream",
     "text": [
      "\u001b[1m1/1\u001b[0m \u001b[32m━━━━━━━━━━━━━━━━━━━━\u001b[0m\u001b[37m\u001b[0m \u001b[1m0s\u001b[0m 67ms/step\n"
     ]
    },
    {
     "data": {
      "image/png": "[encoded data removed]",
      "text/plain": [
       "<Figure size 1200x400 with 10 Axes>"
      ]
     },
     "metadata": {},
     "output_type": "display_data"
    }
   ],
   "source": [
    "num_images = 10\n",
    "predictions = model.predict(x_test[:num_images])\n",
    "predicted_labels = np.argmax(predictions, axis=1)\n",
    "\n",
    "plt.figure(figsize=(12,4))\n",
    "for i in range(num_images):\n",
    "  plt.subplot(2, 5, i+1)\n",
    "  plt.imshow(x_test[i].squeeze(), cmap='gray')\n",
    "  plt.title(f\"Real: {y_test[i]}\\nPrevisto: {predicted_labels[i]}\")\n",
    "  plt.axis('off')\n",
    "plt.tight_layout()"
   ]
  }
 ],
 "metadata": {
  "colab": {
   "authorship_tag": "ABX9TyPPp+FUH6lRVjrJaLqS3rs/",
   "provenance": []
  },
  "kernelspec": {
   "display_name": ".venv",
   "language": "python",
   "name": "python3"
  },
  "language_info": {
   "codemirror_mode": {
    "name": "ipython",
    "version": 3
   },
   "file_extension": ".py",
   "mimetype": "text/x-python",
   "name": "python",
   "nbconvert_exporter": "python",
   "pygments_lexer": "ipython3",
   "version": "3.12.4"
  }
 },
 "nbformat": 4,
 "nbformat_minor": 0
}
