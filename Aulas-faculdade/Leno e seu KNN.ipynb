{
 "cells": [
  {
   "cell_type": "code",
   "execution_count": 1,
   "metadata": {
    "executionInfo": {
     "elapsed": 1,
     "status": "ok",
     "timestamp": 1746448599295,
     "user": {
      "displayName": "PAULO SERGIO DA SILVA LORASCHI",
      "userId": "05709845703001336425"
     },
     "user_tz": 180
    },
    "id": "tGTcVEtDVFer"
   },
   "outputs": [],
   "source": [
    "from sklearn.datasets import load_iris\n",
    "from sklearn.model_selection import train_test_split, cross_val_predict\n",
    "from sklearn.neighbors import KNeighborsClassifier\n",
    "from sklearn.preprocessing import StandardScaler\n",
    "from sklearn.metrics import classification_report, confusion_matrix, ConfusionMatrixDisplay\n",
    "import matplotlib.pyplot as plt"
   ]
  },
  {
   "cell_type": "code",
   "execution_count": 2,
   "metadata": {
    "colab": {
     "base_uri": "https://localhost:8080/"
    },
    "executionInfo": {
     "elapsed": 35,
     "status": "ok",
     "timestamp": 1746448600176,
     "user": {
      "displayName": "PAULO SERGIO DA SILVA LORASCHI",
      "userId": "05709845703001336425"
     },
     "user_tz": 180
    },
    "id": "9mEomwZoVeSa",
    "outputId": "9dc92552-b272-46c8-9613-0a7c37964a61"
   },
   "outputs": [
    {
     "name": "stdout",
     "output_type": "stream",
     "text": [
      "              precision    recall  f1-score   support\n",
      "\n",
      "  Não-Setosa       1.00      1.00      1.00        28\n",
      "      Setosa       1.00      1.00      1.00        17\n",
      "\n",
      "    accuracy                           1.00        45\n",
      "   macro avg       1.00      1.00      1.00        45\n",
      "weighted avg       1.00      1.00      1.00        45\n",
      "\n"
     ]
    }
   ],
   "source": [
    "# Importação dos dados\n",
    "iris = load_iris()\n",
    "x = iris.data\n",
    "y = iris.target\n",
    "\n",
    "# Transforma o problema em binário: 1 se for Setosa, 0 caso contrário\n",
    "y_binary = (y == 0).astype(int)\n",
    "\n",
    "# Préprocessamento\n",
    "scaler = StandardScaler()\n",
    "x_scaled = scaler.fit_transform(x)\n",
    "\n",
    "# Separando o dataset de teste e treino\n",
    "x_train, x_test, y_train, y_test = train_test_split(x_scaled, y_binary, test_size=0.3)\n",
    "\n",
    "# Inicialização do modelo com k=3\n",
    "model = KNeighborsClassifier(n_neighbors=3)\n",
    "\n",
    "model.fit(x_train, y_train)\n",
    "\n",
    "y_pred = model.predict(x_test)\n",
    "print(classification_report(y_test, y_pred, target_names=[\"Não-Setosa\", \"Setosa\"]))"
   ]
  },
  {
   "cell_type": "code",
   "execution_count": 3,
   "metadata": {
    "colab": {
     "base_uri": "https://localhost:8080/",
     "height": 628
    },
    "executionInfo": {
     "elapsed": 203,
     "status": "ok",
     "timestamp": 1746448768499,
     "user": {
      "displayName": "PAULO SERGIO DA SILVA LORASCHI",
      "userId": "05709845703001336425"
     },
     "user_tz": 180
    },
    "id": "zRoNAOu1bala",
    "outputId": "ff5b41a3-d816-4d0a-fdfd-3e2efe88a523"
   },
   "outputs": [
    {
     "name": "stdout",
     "output_type": "stream",
     "text": [
      "              precision    recall  f1-score   support\n",
      "\n",
      "  Não-setosa       0.99      1.00      1.00       100\n",
      "      Setosa       1.00      0.98      0.99        50\n",
      "\n",
      "    accuracy                           0.99       150\n",
      "   macro avg       1.00      0.99      0.99       150\n",
      "weighted avg       0.99      0.99      0.99       150\n",
      "\n"
     ]
    },
    {
     "data": {
      "image/png": "[encoded data removed]",
      "text/plain": [
       "<Figure size 640x480 with 2 Axes>"
      ]
     },
     "metadata": {},
     "output_type": "display_data"
    }
   ],
   "source": [
    "# Importação dos dados\n",
    "iris = load_iris()\n",
    "x = iris.data\n",
    "y = iris.target\n",
    "\n",
    "# Transforma o problema em binário: 1 se for Setosa, 0 caso contrário\n",
    "y_binary = (y == 0).astype(int)\n",
    "\n",
    "# Préprocessamento\n",
    "scaler = StandardScaler()\n",
    "x_scaled = scaler.fit_transform(x)\n",
    "\n",
    "# Inicialização do modelo com k=3\n",
    "model = KNeighborsClassifier(n_neighbors=3)\n",
    "\n",
    "y_pred = cross_val_predict(model, x_scaled, y_binary, cv=5)\n",
    "\n",
    "print(classification_report(y_binary, y_pred, target_names=[\"Não-setosa\", \"Setosa\"]))\n",
    "\n",
    "cm = confusion_matrix(y_binary, y_pred)\n",
    "disp = ConfusionMatrixDisplay(confusion_matrix=cm, display_labels=[\"Não-setosa\", \"Setosa\"])\n",
    "disp.plot(cmap=plt.cm.Blues)\n",
    "plt.title(\"Matriz de confusão - KNN binário\")\n",
    "plt.show()"
   ]
  }
 ],
 "metadata": {
  "colab": {
   "authorship_tag": "ABX9TyNkOyfgCR3dj3YB9rHCWpQh",
   "provenance": []
  },
  "kernelspec": {
   "display_name": ".venv",
   "language": "python",
   "name": "python3"
  },
  "language_info": {
   "codemirror_mode": {
    "name": "ipython",
    "version": 3
   },
   "file_extension": ".py",
   "mimetype": "text/x-python",
   "name": "python",
   "nbconvert_exporter": "python",
   "pygments_lexer": "ipython3",
   "version": "3.12.4"
  }
 },
 "nbformat": 4,
 "nbformat_minor": 0
}
