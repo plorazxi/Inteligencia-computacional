{
 "cells": [
  {
   "cell_type": "code",
   "execution_count": 1,
   "metadata": {
    "executionInfo": {
     "elapsed": 7749,
     "status": "ok",
     "timestamp": 1746741475778,
     "user": {
      "displayName": "PAULO SERGIO DA SILVA LORASCHI",
      "userId": "05709845703001336425"
     },
     "user_tz": 180
    },
    "id": "EEqnTZ1yrMTf"
   },
   "outputs": [],
   "source": [
    "import matplotlib.pyplot as plt\n",
    "from sklearn import datasets\n",
    "from sklearn import svm\n",
    "import pandas as pd\n",
    "from sklearn.preprocessing import StandardScaler\n",
    "from sklearn.model_selection import train_test_split\n",
    "from sklearn import metrics"
   ]
  },
  {
   "cell_type": "markdown",
   "metadata": {},
   "source": [
    "Caso estejas usando o google coolab, descomente o seguinte código:"
   ]
  },
  {
   "cell_type": "code",
   "execution_count": 2,
   "metadata": {
    "colab": {
     "base_uri": "https://localhost:8080/"
    },
    "executionInfo": {
     "elapsed": 21165,
     "status": "ok",
     "timestamp": 1746741496960,
     "user": {
      "displayName": "PAULO SERGIO DA SILVA LORASCHI",
      "userId": "05709845703001336425"
     },
     "user_tz": 180
    },
    "id": "TF16SEaG5xTI",
    "outputId": "91802f33-918e-4dca-d758-8f8be1e6beba"
   },
   "outputs": [],
   "source": [
    "caminho = \"datasets/poluicao_ar.csv\"\n",
    "# !pip install wget\n",
    "# !wget https://raw.githubusercontent.com/plorazxi/Inteligencia-computacional/refs/heads/main/Aulas-faculdade/datasets/poluicao_ar.csv\n",
    "# caminho = \"/content/poluicao_ar.csv\""
   ]
  },
  {
   "cell_type": "code",
   "execution_count": 3,
   "metadata": {
    "colab": {
     "base_uri": "https://localhost:8080/",
     "height": 206
    },
    "executionInfo": {
     "elapsed": 261,
     "status": "ok",
     "timestamp": 1746741497232,
     "user": {
      "displayName": "PAULO SERGIO DA SILVA LORASCHI",
      "userId": "05709845703001336425"
     },
     "user_tz": 180
    },
    "id": "qLGnWY7cvO1S",
    "outputId": "81763097-6d3d-4c61-b529-ff2bf9921f5a"
   },
   "outputs": [
    {
     "data": {
      "text/html": [
       "<div>\n",
       "<style scoped>\n",
       "    .dataframe tbody tr th:only-of-type {\n",
       "        vertical-align: middle;\n",
       "    }\n",
       "\n",
       "    .dataframe tbody tr th {\n",
       "        vertical-align: top;\n",
       "    }\n",
       "\n",
       "    .dataframe thead th {\n",
       "        text-align: right;\n",
       "    }\n",
       "</style>\n",
       "<table border=\"1\" class=\"dataframe\">\n",
       "  <thead>\n",
       "    <tr style=\"text-align: right;\">\n",
       "      <th></th>\n",
       "      <th>Temperature</th>\n",
       "      <th>Humidity</th>\n",
       "      <th>PM2.5</th>\n",
       "      <th>PM10</th>\n",
       "      <th>NO2</th>\n",
       "      <th>SO2</th>\n",
       "      <th>CO</th>\n",
       "      <th>Proximity_to_Industrial_Areas</th>\n",
       "      <th>Population_Density</th>\n",
       "      <th>Air Quality</th>\n",
       "    </tr>\n",
       "  </thead>\n",
       "  <tbody>\n",
       "    <tr>\n",
       "      <th>0</th>\n",
       "      <td>29.8</td>\n",
       "      <td>59.1</td>\n",
       "      <td>5.2</td>\n",
       "      <td>17.9</td>\n",
       "      <td>18.9</td>\n",
       "      <td>9.2</td>\n",
       "      <td>1.72</td>\n",
       "      <td>6.3</td>\n",
       "      <td>319</td>\n",
       "      <td>Moderate</td>\n",
       "    </tr>\n",
       "    <tr>\n",
       "      <th>1</th>\n",
       "      <td>28.3</td>\n",
       "      <td>75.6</td>\n",
       "      <td>2.3</td>\n",
       "      <td>12.2</td>\n",
       "      <td>30.8</td>\n",
       "      <td>9.7</td>\n",
       "      <td>1.64</td>\n",
       "      <td>6.0</td>\n",
       "      <td>611</td>\n",
       "      <td>Moderate</td>\n",
       "    </tr>\n",
       "    <tr>\n",
       "      <th>2</th>\n",
       "      <td>23.1</td>\n",
       "      <td>74.7</td>\n",
       "      <td>26.7</td>\n",
       "      <td>33.8</td>\n",
       "      <td>24.4</td>\n",
       "      <td>12.6</td>\n",
       "      <td>1.63</td>\n",
       "      <td>5.2</td>\n",
       "      <td>619</td>\n",
       "      <td>Moderate</td>\n",
       "    </tr>\n",
       "    <tr>\n",
       "      <th>3</th>\n",
       "      <td>27.1</td>\n",
       "      <td>39.1</td>\n",
       "      <td>6.1</td>\n",
       "      <td>6.3</td>\n",
       "      <td>13.5</td>\n",
       "      <td>5.3</td>\n",
       "      <td>1.15</td>\n",
       "      <td>11.1</td>\n",
       "      <td>551</td>\n",
       "      <td>Good</td>\n",
       "    </tr>\n",
       "    <tr>\n",
       "      <th>4</th>\n",
       "      <td>26.5</td>\n",
       "      <td>70.7</td>\n",
       "      <td>6.9</td>\n",
       "      <td>16.0</td>\n",
       "      <td>21.9</td>\n",
       "      <td>5.6</td>\n",
       "      <td>1.01</td>\n",
       "      <td>12.7</td>\n",
       "      <td>303</td>\n",
       "      <td>Good</td>\n",
       "    </tr>\n",
       "  </tbody>\n",
       "</table>\n",
       "</div>"
      ],
      "text/plain": [
       "   Temperature  Humidity  PM2.5  PM10   NO2   SO2    CO  \\\n",
       "0         29.8      59.1    5.2  17.9  18.9   9.2  1.72   \n",
       "1         28.3      75.6    2.3  12.2  30.8   9.7  1.64   \n",
       "2         23.1      74.7   26.7  33.8  24.4  12.6  1.63   \n",
       "3         27.1      39.1    6.1   6.3  13.5   5.3  1.15   \n",
       "4         26.5      70.7    6.9  16.0  21.9   5.6  1.01   \n",
       "\n",
       "   Proximity_to_Industrial_Areas  Population_Density Air Quality  \n",
       "0                            6.3                 319    Moderate  \n",
       "1                            6.0                 611    Moderate  \n",
       "2                            5.2                 619    Moderate  \n",
       "3                           11.1                 551        Good  \n",
       "4                           12.7                 303        Good  "
      ]
     },
     "execution_count": 3,
     "metadata": {},
     "output_type": "execute_result"
    }
   ],
   "source": [
    "dados = pd.read_csv(caminho, sep=';')\n",
    "dados.head()"
   ]
  },
  {
   "cell_type": "code",
   "execution_count": 4,
   "metadata": {
    "executionInfo": {
     "elapsed": 10,
     "status": "ok",
     "timestamp": 1746741497243,
     "user": {
      "displayName": "PAULO SERGIO DA SILVA LORASCHI",
      "userId": "05709845703001336425"
     },
     "user_tz": 180
    },
    "id": "AvKOuMV52ODM"
   },
   "outputs": [],
   "source": [
    "#Entrada dos dados\n",
    "X = dados.drop(columns = ['Air Quality'])\n",
    "Y = dados[['Air Quality']]"
   ]
  },
  {
   "cell_type": "code",
   "execution_count": 5,
   "metadata": {
    "executionInfo": {
     "elapsed": 13,
     "status": "ok",
     "timestamp": 1746741497260,
     "user": {
      "displayName": "PAULO SERGIO DA SILVA LORASCHI",
      "userId": "05709845703001336425"
     },
     "user_tz": 180
    },
    "id": "5DSpsTF5wivA"
   },
   "outputs": [],
   "source": [
    "#divisao dos dados X, Y\n",
    "X_train, X_test, Y_train, Y_test = train_test_split(X,Y, shuffle = True, test_size = 0.2)\n",
    "\n",
    "#normalizando os dados treino e teste\n",
    "scaler = StandardScaler()\n",
    "scaler.fit(X_train)\n",
    "X_train = scaler.transform(X_train)\n",
    "X_test = scaler.transform(X_test)"
   ]
  },
  {
   "cell_type": "code",
   "execution_count": 6,
   "metadata": {
    "colab": {
     "base_uri": "https://localhost:8080/"
    },
    "executionInfo": {
     "elapsed": 325,
     "status": "ok",
     "timestamp": 1746741497598,
     "user": {
      "displayName": "PAULO SERGIO DA SILVA LORASCHI",
      "userId": "05709845703001336425"
     },
     "user_tz": 180
    },
    "id": "rpsbFSiXzlbN",
    "outputId": "b06ff736-1455-4c0c-8b3f-67030ffb04c7"
   },
   "outputs": [
    {
     "name": "stderr",
     "output_type": "stream",
     "text": [
      "c:\\Users\\paulo\\Documents\\Projetos\\Inteligencia computacional\\.venv\\Lib\\site-packages\\sklearn\\utils\\validation.py:1408: DataConversionWarning: A column-vector y was passed when a 1d array was expected. Please change the shape of y to (n_samples, ), for example using ravel().\n",
      "  y = column_or_1d(y, warn=True)\n"
     ]
    }
   ],
   "source": [
    "#configuracao do classificador SVM\n",
    "clf = svm.SVC(kernel = 'rbf')\n",
    "clf.fit(X_train, Y_train)\n",
    "y_pred = clf.predict(X_test)"
   ]
  },
  {
   "cell_type": "code",
   "execution_count": 7,
   "metadata": {
    "colab": {
     "base_uri": "https://localhost:8080/"
    },
    "executionInfo": {
     "elapsed": 46,
     "status": "ok",
     "timestamp": 1746741497647,
     "user": {
      "displayName": "PAULO SERGIO DA SILVA LORASCHI",
      "userId": "05709845703001336425"
     },
     "user_tz": 180
    },
    "id": "Hkz7BHMi09Bn",
    "outputId": "c4c6a28c-4bca-41aa-9197-03137a492b7d"
   },
   "outputs": [
    {
     "name": "stdout",
     "output_type": "stream",
     "text": [
      "              precision    recall  f1-score   support\n",
      "\n",
      "        Good       1.00      1.00      1.00       426\n",
      "   Hazardous       0.92      0.83      0.88       103\n",
      "    Moderate       0.94      0.96      0.95       291\n",
      "        Poor       0.85      0.87      0.86       180\n",
      "\n",
      "    accuracy                           0.95      1000\n",
      "   macro avg       0.93      0.92      0.92      1000\n",
      "weighted avg       0.95      0.95      0.95      1000\n",
      "\n"
     ]
    }
   ],
   "source": [
    "#métricas de avaliação\n",
    "print(metrics.classification_report(Y_test,y_pred))"
   ]
  },
  {
   "cell_type": "code",
   "execution_count": 8,
   "metadata": {
    "colab": {
     "base_uri": "https://localhost:8080/",
     "height": 451
    },
    "executionInfo": {
     "elapsed": 510,
     "status": "ok",
     "timestamp": 1746741498160,
     "user": {
      "displayName": "PAULO SERGIO DA SILVA LORASCHI",
      "userId": "05709845703001336425"
     },
     "user_tz": 180
    },
    "id": "WWK5BgvVmYtw",
    "outputId": "98c26039-4361-461c-b0c7-4d4e809c6e2d"
   },
   "outputs": [
    {
     "data": {
      "image/png": "[encoded data removed]",
      "text/plain": [
       "<Figure size 640x480 with 2 Axes>"
      ]
     },
     "metadata": {},
     "output_type": "display_data"
    }
   ],
   "source": [
    "from sklearn.metrics import confusion_matrix, ConfusionMatrixDisplay\n",
    "#Matriz de confusão SVM\n",
    "ConfusionMatrixDisplay(confusion_matrix=confusion_matrix(Y_test, y_pred), display_labels=clf.classes_).plot()\n",
    "plt.grid(False)\n",
    "plt.show()"
   ]
  },
  {
   "cell_type": "code",
   "execution_count": 9,
   "metadata": {
    "colab": {
     "base_uri": "https://localhost:8080/",
     "height": 465
    },
    "executionInfo": {
     "elapsed": 398,
     "status": "ok",
     "timestamp": 1746741498561,
     "user": {
      "displayName": "PAULO SERGIO DA SILVA LORASCHI",
      "userId": "05709845703001336425"
     },
     "user_tz": 180
    },
    "id": "Y4Th8d4HrfBV",
    "outputId": "284ddfb6-eeda-4f8b-b073-b20bfccd27a5"
   },
   "outputs": [
    {
     "name": "stdout",
     "output_type": "stream",
     "text": [
      "1797\n",
      "Predition:\n"
     ]
    },
    {
     "data": {
      "image/png": "[encoded data removed]",
      "text/plain": [
       "<Figure size 640x480 with 1 Axes>"
      ]
     },
     "metadata": {},
     "output_type": "display_data"
    }
   ],
   "source": [
    "digits = datasets.load_digits()\n",
    "clf = svm.SVC(gamma = 0.0001, C = 100)\n",
    "print(len(digits.data))\n",
    "\n",
    "x,y = digits.data[:-1], digits.target[:-1]\n",
    "clf.fit(x,y)\n",
    "print('Predition:'), clf.predict(digits.data[:-1])\n",
    "plt.imshow(digits.images[-1], cmap=plt.cm.gray_r, interpolation = 'nearest')\n",
    "plt.show()"
   ]
  }
 ],
 "metadata": {
  "colab": {
   "provenance": [
    {
     "file_id": "1nt7qWrv9EczIeT5aZpZWGr06qWG_nXtA",
     "timestamp": 1746715275063
    }
   ]
  },
  "kernelspec": {
   "display_name": ".venv",
   "language": "python",
   "name": "python3"
  },
  "language_info": {
   "codemirror_mode": {
    "name": "ipython",
    "version": 3
   },
   "file_extension": ".py",
   "mimetype": "text/x-python",
   "name": "python",
   "nbconvert_exporter": "python",
   "pygments_lexer": "ipython3",
   "version": "3.12.4"
  }
 },
 "nbformat": 4,
 "nbformat_minor": 0
}
